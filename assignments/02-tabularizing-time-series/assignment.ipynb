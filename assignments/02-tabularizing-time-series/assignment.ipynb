{
 "cells": [
  {
   "cell_type": "markdown",
   "id": "2d1a73ab",
   "metadata": {},
   "source": [
    "# Tabularize time series\n",
    "\n",
    "In this assignment, your task is to convert **time series data** into a **tabular data set**.\n",
    "\n",
    "You need to create suitable input features from a time series containing weekly sales to be able to forecast sales for the next week.\n",
    "\n",
    "To prepare the dataset for this assignment, please follow the guidelines in the notebook `02-create-online-retail-II-datasets.ipynb` in the `01-Create-Datasets` folder."
   ]
  },
  {
   "cell_type": "code",
   "execution_count": 217,
   "id": "fe08da0d",
   "metadata": {},
   "outputs": [],
   "source": [
    "import pandas as pd\n",
    "import numpy as np\n",
    "import matplotlib.pyplot as plt\n",
    "from feature_engine.creation import CyclicalFeatures\n",
    "\n",
    "from sklearn.ensemble import RandomForestRegressor\n",
    "from sklearn.linear_model import Lasso\n",
    "from sklearn.metrics import mean_squared_error"
   ]
  },
  {
   "cell_type": "code",
   "execution_count": 189,
   "id": "f53976d3",
   "metadata": {},
   "outputs": [
    {
     "data": {
      "text/html": [
       "<div>\n",
       "<style scoped>\n",
       "    .dataframe tbody tr th:only-of-type {\n",
       "        vertical-align: middle;\n",
       "    }\n",
       "\n",
       "    .dataframe tbody tr th {\n",
       "        vertical-align: top;\n",
       "    }\n",
       "\n",
       "    .dataframe thead th {\n",
       "        text-align: right;\n",
       "    }\n",
       "</style>\n",
       "<table border=\"1\" class=\"dataframe\">\n",
       "  <thead>\n",
       "    <tr style=\"text-align: right;\">\n",
       "      <th></th>\n",
       "      <th>sales</th>\n",
       "    </tr>\n",
       "    <tr>\n",
       "      <th>week</th>\n",
       "      <th></th>\n",
       "    </tr>\n",
       "  </thead>\n",
       "  <tbody>\n",
       "    <tr>\n",
       "      <th>2009-12-06</th>\n",
       "      <td>213000.35</td>\n",
       "    </tr>\n",
       "    <tr>\n",
       "      <th>2009-12-13</th>\n",
       "      <td>195810.04</td>\n",
       "    </tr>\n",
       "    <tr>\n",
       "      <th>2009-12-20</th>\n",
       "      <td>182396.74</td>\n",
       "    </tr>\n",
       "    <tr>\n",
       "      <th>2009-12-27</th>\n",
       "      <td>22007.77</td>\n",
       "    </tr>\n",
       "    <tr>\n",
       "      <th>2010-01-03</th>\n",
       "      <td>0.00</td>\n",
       "    </tr>\n",
       "  </tbody>\n",
       "</table>\n",
       "</div>"
      ],
      "text/plain": [
       "                sales\n",
       "week                 \n",
       "2009-12-06  213000.35\n",
       "2009-12-13  195810.04\n",
       "2009-12-20  182396.74\n",
       "2009-12-27   22007.77\n",
       "2010-01-03       0.00"
      ]
     },
     "execution_count": 189,
     "metadata": {},
     "output_type": "execute_result"
    }
   ],
   "source": [
    "# load weekly sales dataset\n",
    "\n",
    "filename = \"../../Datasets/online_retail_dataset.csv\"\n",
    "\n",
    "df = pd.read_csv(\n",
    "    filename,\n",
    "    usecols=[\"week\", \"United Kingdom\"],\n",
    "    parse_dates=[\"week\"],\n",
    "    index_col=[\"week\"],\n",
    ")\n",
    "\n",
    "df.columns = ['sales']\n",
    "\n",
    "df.head()"
   ]
  },
  {
   "cell_type": "markdown",
   "id": "cdfe9415",
   "metadata": {},
   "source": [
    "# Data analysis\n",
    "\n",
    "First, explore the time series.\n",
    "\n",
    "## Plot time series"
   ]
  },
  {
   "cell_type": "code",
   "execution_count": 190,
   "id": "a71cc0b0",
   "metadata": {},
   "outputs": [
    {
     "data": {
      "text/html": [
       "<div>\n",
       "<style scoped>\n",
       "    .dataframe tbody tr th:only-of-type {\n",
       "        vertical-align: middle;\n",
       "    }\n",
       "\n",
       "    .dataframe tbody tr th {\n",
       "        vertical-align: top;\n",
       "    }\n",
       "\n",
       "    .dataframe thead th {\n",
       "        text-align: right;\n",
       "    }\n",
       "</style>\n",
       "<table border=\"1\" class=\"dataframe\">\n",
       "  <thead>\n",
       "    <tr style=\"text-align: right;\">\n",
       "      <th></th>\n",
       "      <th>sales</th>\n",
       "    </tr>\n",
       "    <tr>\n",
       "      <th>week</th>\n",
       "      <th></th>\n",
       "    </tr>\n",
       "  </thead>\n",
       "  <tbody>\n",
       "    <tr>\n",
       "      <th>2010-01-03</th>\n",
       "      <td>0.0</td>\n",
       "    </tr>\n",
       "    <tr>\n",
       "      <th>2011-01-02</th>\n",
       "      <td>0.0</td>\n",
       "    </tr>\n",
       "  </tbody>\n",
       "</table>\n",
       "</div>"
      ],
      "text/plain": [
       "            sales\n",
       "week             \n",
       "2010-01-03    0.0\n",
       "2011-01-02    0.0"
      ]
     },
     "execution_count": 190,
     "metadata": {},
     "output_type": "execute_result"
    }
   ],
   "source": [
    "df_filled[(df_.sales.isnull()) | (df_.sales <= 0)]"
   ]
  },
  {
   "cell_type": "code",
   "execution_count": 191,
   "id": "245aec8c",
   "metadata": {},
   "outputs": [
    {
     "data": {
      "text/html": [
       "<div>\n",
       "<style scoped>\n",
       "    .dataframe tbody tr th:only-of-type {\n",
       "        vertical-align: middle;\n",
       "    }\n",
       "\n",
       "    .dataframe tbody tr th {\n",
       "        vertical-align: top;\n",
       "    }\n",
       "\n",
       "    .dataframe thead th {\n",
       "        text-align: right;\n",
       "    }\n",
       "</style>\n",
       "<table border=\"1\" class=\"dataframe\">\n",
       "  <thead>\n",
       "    <tr style=\"text-align: right;\">\n",
       "      <th></th>\n",
       "      <th>sales</th>\n",
       "    </tr>\n",
       "    <tr>\n",
       "      <th>week</th>\n",
       "      <th></th>\n",
       "    </tr>\n",
       "  </thead>\n",
       "  <tbody>\n",
       "    <tr>\n",
       "      <th>2009-12-06</th>\n",
       "      <td>213000.35</td>\n",
       "    </tr>\n",
       "    <tr>\n",
       "      <th>2009-12-13</th>\n",
       "      <td>195810.04</td>\n",
       "    </tr>\n",
       "    <tr>\n",
       "      <th>2009-12-20</th>\n",
       "      <td>182396.74</td>\n",
       "    </tr>\n",
       "    <tr>\n",
       "      <th>2009-12-27</th>\n",
       "      <td>22007.77</td>\n",
       "    </tr>\n",
       "    <tr>\n",
       "      <th>2010-01-03</th>\n",
       "      <td>0.00</td>\n",
       "    </tr>\n",
       "    <tr>\n",
       "      <th>...</th>\n",
       "      <td>...</td>\n",
       "    </tr>\n",
       "    <tr>\n",
       "      <th>2011-11-13</th>\n",
       "      <td>229378.01</td>\n",
       "    </tr>\n",
       "    <tr>\n",
       "      <th>2011-11-20</th>\n",
       "      <td>221870.29</td>\n",
       "    </tr>\n",
       "    <tr>\n",
       "      <th>2011-11-27</th>\n",
       "      <td>210741.76</td>\n",
       "    </tr>\n",
       "    <tr>\n",
       "      <th>2011-12-04</th>\n",
       "      <td>220213.99</td>\n",
       "    </tr>\n",
       "    <tr>\n",
       "      <th>2011-12-11</th>\n",
       "      <td>372946.26</td>\n",
       "    </tr>\n",
       "  </tbody>\n",
       "</table>\n",
       "<p>106 rows × 1 columns</p>\n",
       "</div>"
      ],
      "text/plain": [
       "                sales\n",
       "week                 \n",
       "2009-12-06  213000.35\n",
       "2009-12-13  195810.04\n",
       "2009-12-20  182396.74\n",
       "2009-12-27   22007.77\n",
       "2010-01-03       0.00\n",
       "...               ...\n",
       "2011-11-13  229378.01\n",
       "2011-11-20  221870.29\n",
       "2011-11-27  210741.76\n",
       "2011-12-04  220213.99\n",
       "2011-12-11  372946.26\n",
       "\n",
       "[106 rows x 1 columns]"
      ]
     },
     "execution_count": 191,
     "metadata": {},
     "output_type": "execute_result"
    }
   ],
   "source": [
    "df_"
   ]
  },
  {
   "cell_type": "code",
   "execution_count": 192,
   "id": "5ee90a31",
   "metadata": {},
   "outputs": [
    {
     "data": {
      "image/png": "[encoded data removed]",
      "text/plain": [
       "<Figure size 1500x600 with 1 Axes>"
      ]
     },
     "metadata": {},
     "output_type": "display_data"
    }
   ],
   "source": [
    "ax = df[\"sales\"].plot(figsize=(15, 6));\n",
    "\n",
    "df_ = df.asfreq(\"1W\")\n",
    "df_filled = df_.fillna(method=\"ffill\")\n",
    "df_filled[(df_.sales.isnull()) | (df_.sales <= 0)].sales.plot(legend=None, marker=\".\", color=\"r\", ax=ax)\n",
    "\n",
    "plt.title(\"sales\")\n",
    "plt.ylabel(\"sales\");\n",
    "plt.show()"
   ]
  },
  {
   "cell_type": "markdown",
   "id": "6ceabd79",
   "metadata": {},
   "source": [
    "## Missing data\n",
    "\n",
    "Check if there are missing values in the time series."
   ]
  },
  {
   "cell_type": "code",
   "execution_count": 193,
   "id": "2afd83e1",
   "metadata": {},
   "outputs": [
    {
     "data": {
      "text/plain": [
       "2"
      ]
     },
     "execution_count": 193,
     "metadata": {},
     "output_type": "execute_result"
    }
   ],
   "source": [
    "((df.sales.isnull()) | (df.sales <= 0)).sum()"
   ]
  },
  {
   "cell_type": "markdown",
   "id": "9c484bca",
   "metadata": {},
   "source": [
    "## Missing timestamps\n",
    "\n",
    "Check if there are missing timestamps in the index."
   ]
  },
  {
   "cell_type": "code",
   "execution_count": 194,
   "id": "19e8c139",
   "metadata": {},
   "outputs": [],
   "source": [
    "kek = df.asfreq(\"1W\").fillna(method=\"ffill\")\n",
    "assert kek.index.shape[0] == df.index.shape[0]\n",
    "assert kek[kek.sales.isna()].shape[0] == 0"
   ]
  },
  {
   "cell_type": "markdown",
   "id": "444ca303",
   "metadata": {},
   "source": [
    "## Seasonality\n",
    "\n",
    "Does the time series show any obvious seasonal pattern?"
   ]
  },
  {
   "cell_type": "code",
   "execution_count": 195,
   "id": "7e64b28a",
   "metadata": {},
   "outputs": [],
   "source": [
    "# year seasonality"
   ]
  },
  {
   "cell_type": "code",
   "execution_count": 196,
   "id": "70bf3f6f",
   "metadata": {},
   "outputs": [
    {
     "data": {
      "image/png": "[encoded data removed]",
      "text/plain": [
       "<Figure size 640x480 with 1 Axes>"
      ]
     },
     "metadata": {},
     "output_type": "display_data"
    }
   ],
   "source": [
    "df[\"month\"] = df.index.month\n",
    "df.groupby(\"month\").mean().plot();"
   ]
  },
  {
   "cell_type": "markdown",
   "id": "e81565cb",
   "metadata": {},
   "source": [
    "# Feature engineering\n",
    "\n",
    "Now, let's begin to tabularize the data."
   ]
  },
  {
   "cell_type": "code",
   "execution_count": 197,
   "id": "a688140f",
   "metadata": {},
   "outputs": [
    {
     "name": "stdout",
     "output_type": "stream",
     "text": [
      "data size before\n",
      "(106, 2)\n",
      "data size after\n",
      "(106, 3)\n"
     ]
    },
    {
     "data": {
      "text/html": [
       "<div>\n",
       "<style scoped>\n",
       "    .dataframe tbody tr th:only-of-type {\n",
       "        vertical-align: middle;\n",
       "    }\n",
       "\n",
       "    .dataframe tbody tr th {\n",
       "        vertical-align: top;\n",
       "    }\n",
       "\n",
       "    .dataframe thead th {\n",
       "        text-align: right;\n",
       "    }\n",
       "</style>\n",
       "<table border=\"1\" class=\"dataframe\">\n",
       "  <thead>\n",
       "    <tr style=\"text-align: right;\">\n",
       "      <th></th>\n",
       "      <th>sales</th>\n",
       "      <th>month</th>\n",
       "      <th>sales_lag_1</th>\n",
       "    </tr>\n",
       "    <tr>\n",
       "      <th>week</th>\n",
       "      <th></th>\n",
       "      <th></th>\n",
       "      <th></th>\n",
       "    </tr>\n",
       "  </thead>\n",
       "  <tbody>\n",
       "    <tr>\n",
       "      <th>2009-12-06</th>\n",
       "      <td>213000.35</td>\n",
       "      <td>12</td>\n",
       "      <td>NaN</td>\n",
       "    </tr>\n",
       "    <tr>\n",
       "      <th>2009-12-13</th>\n",
       "      <td>195810.04</td>\n",
       "      <td>12</td>\n",
       "      <td>213000.35</td>\n",
       "    </tr>\n",
       "    <tr>\n",
       "      <th>2009-12-20</th>\n",
       "      <td>182396.74</td>\n",
       "      <td>12</td>\n",
       "      <td>195810.04</td>\n",
       "    </tr>\n",
       "    <tr>\n",
       "      <th>2009-12-27</th>\n",
       "      <td>22007.77</td>\n",
       "      <td>12</td>\n",
       "      <td>182396.74</td>\n",
       "    </tr>\n",
       "    <tr>\n",
       "      <th>2010-01-03</th>\n",
       "      <td>0.00</td>\n",
       "      <td>1</td>\n",
       "      <td>22007.77</td>\n",
       "    </tr>\n",
       "  </tbody>\n",
       "</table>\n",
       "</div>"
      ],
      "text/plain": [
       "                sales  month  sales_lag_1\n",
       "week                                     \n",
       "2009-12-06  213000.35     12          NaN\n",
       "2009-12-13  195810.04     12    213000.35\n",
       "2009-12-20  182396.74     12    195810.04\n",
       "2009-12-27   22007.77     12    182396.74\n",
       "2010-01-03       0.00      1     22007.77"
      ]
     },
     "execution_count": 197,
     "metadata": {},
     "output_type": "execute_result"
    }
   ],
   "source": [
    "tmp = df.sales.shift(freq=\"1W\").rename(df.columns[0] + \"_lag_1\")\n",
    "\n",
    "# Add the variables to the original data.\n",
    "print(\"data size before\")\n",
    "print(df.shape)\n",
    "\n",
    "df = df.merge(tmp, left_index=True, right_index=True, how=\"left\")\n",
    "\n",
    "print(\"data size after\")\n",
    "print(df.shape)\n",
    "\n",
    "df.head()"
   ]
  },
  {
   "cell_type": "code",
   "execution_count": 198,
   "id": "a831b79d",
   "metadata": {},
   "outputs": [
    {
     "data": {
      "text/plain": [
       "sales          0\n",
       "month          0\n",
       "sales_lag_1    1\n",
       "dtype: int64"
      ]
     },
     "execution_count": 198,
     "metadata": {},
     "output_type": "execute_result"
    }
   ],
   "source": [
    "df.isnull().sum()"
   ]
  },
  {
   "cell_type": "code",
   "execution_count": 199,
   "id": "810b72f2",
   "metadata": {},
   "outputs": [
    {
     "name": "stdout",
     "output_type": "stream",
     "text": [
      "data size before\n",
      "(106, 3)\n",
      "data size after\n",
      "(106, 4)\n"
     ]
    }
   ],
   "source": [
    "tmp = df.sales.shift(freq=\"4W\").rename(df.columns[0] + \"_lag_4\")\n",
    "\n",
    "# Add the features to the original data.\n",
    "print(\"data size before\")\n",
    "print(df.shape)\n",
    "\n",
    "df = df.merge(tmp, left_index=True, right_index=True, how=\"left\")\n",
    "\n",
    "print(\"data size after\")\n",
    "print(df.shape)"
   ]
  },
  {
   "cell_type": "code",
   "execution_count": 200,
   "id": "80fba081",
   "metadata": {},
   "outputs": [
    {
     "data": {
      "text/html": [
       "<div>\n",
       "<style scoped>\n",
       "    .dataframe tbody tr th:only-of-type {\n",
       "        vertical-align: middle;\n",
       "    }\n",
       "\n",
       "    .dataframe tbody tr th {\n",
       "        vertical-align: top;\n",
       "    }\n",
       "\n",
       "    .dataframe thead th {\n",
       "        text-align: right;\n",
       "    }\n",
       "</style>\n",
       "<table border=\"1\" class=\"dataframe\">\n",
       "  <thead>\n",
       "    <tr style=\"text-align: right;\">\n",
       "      <th></th>\n",
       "      <th>sales</th>\n",
       "      <th>month</th>\n",
       "      <th>sales_lag_1</th>\n",
       "      <th>sales_lag_4</th>\n",
       "    </tr>\n",
       "    <tr>\n",
       "      <th>week</th>\n",
       "      <th></th>\n",
       "      <th></th>\n",
       "      <th></th>\n",
       "      <th></th>\n",
       "    </tr>\n",
       "  </thead>\n",
       "  <tbody>\n",
       "    <tr>\n",
       "      <th>2009-12-06</th>\n",
       "      <td>213000.350</td>\n",
       "      <td>12</td>\n",
       "      <td>NaN</td>\n",
       "      <td>NaN</td>\n",
       "    </tr>\n",
       "    <tr>\n",
       "      <th>2009-12-13</th>\n",
       "      <td>195810.040</td>\n",
       "      <td>12</td>\n",
       "      <td>213000.350</td>\n",
       "      <td>NaN</td>\n",
       "    </tr>\n",
       "    <tr>\n",
       "      <th>2009-12-20</th>\n",
       "      <td>182396.740</td>\n",
       "      <td>12</td>\n",
       "      <td>195810.040</td>\n",
       "      <td>NaN</td>\n",
       "    </tr>\n",
       "    <tr>\n",
       "      <th>2009-12-27</th>\n",
       "      <td>22007.770</td>\n",
       "      <td>12</td>\n",
       "      <td>182396.740</td>\n",
       "      <td>NaN</td>\n",
       "    </tr>\n",
       "    <tr>\n",
       "      <th>2010-01-03</th>\n",
       "      <td>0.000</td>\n",
       "      <td>1</td>\n",
       "      <td>22007.770</td>\n",
       "      <td>213000.35</td>\n",
       "    </tr>\n",
       "    <tr>\n",
       "      <th>2010-01-10</th>\n",
       "      <td>112318.850</td>\n",
       "      <td>1</td>\n",
       "      <td>0.000</td>\n",
       "      <td>195810.04</td>\n",
       "    </tr>\n",
       "    <tr>\n",
       "      <th>2010-01-17</th>\n",
       "      <td>111460.470</td>\n",
       "      <td>1</td>\n",
       "      <td>112318.850</td>\n",
       "      <td>182396.74</td>\n",
       "    </tr>\n",
       "    <tr>\n",
       "      <th>2010-01-24</th>\n",
       "      <td>82065.331</td>\n",
       "      <td>1</td>\n",
       "      <td>111460.470</td>\n",
       "      <td>22007.77</td>\n",
       "    </tr>\n",
       "    <tr>\n",
       "      <th>2010-01-31</th>\n",
       "      <td>110790.591</td>\n",
       "      <td>1</td>\n",
       "      <td>82065.331</td>\n",
       "      <td>0.00</td>\n",
       "    </tr>\n",
       "    <tr>\n",
       "      <th>2010-02-07</th>\n",
       "      <td>95340.552</td>\n",
       "      <td>2</td>\n",
       "      <td>110790.591</td>\n",
       "      <td>112318.85</td>\n",
       "    </tr>\n",
       "  </tbody>\n",
       "</table>\n",
       "</div>"
      ],
      "text/plain": [
       "                 sales  month  sales_lag_1  sales_lag_4\n",
       "week                                                   \n",
       "2009-12-06  213000.350     12          NaN          NaN\n",
       "2009-12-13  195810.040     12   213000.350          NaN\n",
       "2009-12-20  182396.740     12   195810.040          NaN\n",
       "2009-12-27   22007.770     12   182396.740          NaN\n",
       "2010-01-03       0.000      1    22007.770    213000.35\n",
       "2010-01-10  112318.850      1        0.000    195810.04\n",
       "2010-01-17  111460.470      1   112318.850    182396.74\n",
       "2010-01-24   82065.331      1   111460.470     22007.77\n",
       "2010-01-31  110790.591      1    82065.331         0.00\n",
       "2010-02-07   95340.552      2   110790.591    112318.85"
      ]
     },
     "execution_count": 200,
     "metadata": {},
     "output_type": "execute_result"
    }
   ],
   "source": [
    "df.head(10)"
   ]
  },
  {
   "cell_type": "code",
   "execution_count": null,
   "id": "55d0e2fd",
   "metadata": {},
   "outputs": [],
   "source": []
  },
  {
   "cell_type": "markdown",
   "id": "11b91db5",
   "metadata": {},
   "source": [
    "df.isnull().sum()"
   ]
  },
  {
   "cell_type": "code",
   "execution_count": 201,
   "id": "35d1cca9",
   "metadata": {},
   "outputs": [],
   "source": [
    "# Use the mean of the 3 previous weeks as input variables.\n",
    "\n",
    "tmp = (\n",
    "    df.sales\n",
    "    .rolling(window=3)\n",
    "    .agg({\"mean_window\":\"mean\", \"std_window\":\"std\", \"max_window\":\"max\", \"min_window\":\"min\"}) # Average, Std, Min, Max the last 3 wk values.\n",
    "    .shift(1)  # Move the average 1 week forward\n",
    ")\n"
   ]
  },
  {
   "cell_type": "code",
   "execution_count": 202,
   "id": "f1f6aba3",
   "metadata": {},
   "outputs": [
    {
     "name": "stdout",
     "output_type": "stream",
     "text": [
      "data size before\n",
      "(106, 4)\n",
      "data size after\n",
      "(106, 8)\n"
     ]
    },
    {
     "data": {
      "text/html": [
       "<div>\n",
       "<style scoped>\n",
       "    .dataframe tbody tr th:only-of-type {\n",
       "        vertical-align: middle;\n",
       "    }\n",
       "\n",
       "    .dataframe tbody tr th {\n",
       "        vertical-align: top;\n",
       "    }\n",
       "\n",
       "    .dataframe thead th {\n",
       "        text-align: right;\n",
       "    }\n",
       "</style>\n",
       "<table border=\"1\" class=\"dataframe\">\n",
       "  <thead>\n",
       "    <tr style=\"text-align: right;\">\n",
       "      <th></th>\n",
       "      <th>sales</th>\n",
       "      <th>month</th>\n",
       "      <th>sales_lag_1</th>\n",
       "      <th>sales_lag_4</th>\n",
       "      <th>mean_window</th>\n",
       "      <th>std_window</th>\n",
       "      <th>max_window</th>\n",
       "      <th>min_window</th>\n",
       "    </tr>\n",
       "    <tr>\n",
       "      <th>week</th>\n",
       "      <th></th>\n",
       "      <th></th>\n",
       "      <th></th>\n",
       "      <th></th>\n",
       "      <th></th>\n",
       "      <th></th>\n",
       "      <th></th>\n",
       "      <th></th>\n",
       "    </tr>\n",
       "  </thead>\n",
       "  <tbody>\n",
       "    <tr>\n",
       "      <th>2009-12-06</th>\n",
       "      <td>213000.350</td>\n",
       "      <td>12</td>\n",
       "      <td>NaN</td>\n",
       "      <td>NaN</td>\n",
       "      <td>NaN</td>\n",
       "      <td>NaN</td>\n",
       "      <td>NaN</td>\n",
       "      <td>NaN</td>\n",
       "    </tr>\n",
       "    <tr>\n",
       "      <th>2009-12-13</th>\n",
       "      <td>195810.040</td>\n",
       "      <td>12</td>\n",
       "      <td>213000.350</td>\n",
       "      <td>NaN</td>\n",
       "      <td>NaN</td>\n",
       "      <td>NaN</td>\n",
       "      <td>NaN</td>\n",
       "      <td>NaN</td>\n",
       "    </tr>\n",
       "    <tr>\n",
       "      <th>2009-12-20</th>\n",
       "      <td>182396.740</td>\n",
       "      <td>12</td>\n",
       "      <td>195810.040</td>\n",
       "      <td>NaN</td>\n",
       "      <td>NaN</td>\n",
       "      <td>NaN</td>\n",
       "      <td>NaN</td>\n",
       "      <td>NaN</td>\n",
       "    </tr>\n",
       "    <tr>\n",
       "      <th>2009-12-27</th>\n",
       "      <td>22007.770</td>\n",
       "      <td>12</td>\n",
       "      <td>182396.740</td>\n",
       "      <td>NaN</td>\n",
       "      <td>197069.043333</td>\n",
       "      <td>15340.601465</td>\n",
       "      <td>213000.35</td>\n",
       "      <td>182396.740</td>\n",
       "    </tr>\n",
       "    <tr>\n",
       "      <th>2010-01-03</th>\n",
       "      <td>0.000</td>\n",
       "      <td>1</td>\n",
       "      <td>22007.770</td>\n",
       "      <td>213000.35</td>\n",
       "      <td>133404.850000</td>\n",
       "      <td>96705.538769</td>\n",
       "      <td>195810.04</td>\n",
       "      <td>22007.770</td>\n",
       "    </tr>\n",
       "    <tr>\n",
       "      <th>2010-01-10</th>\n",
       "      <td>112318.850</td>\n",
       "      <td>1</td>\n",
       "      <td>0.000</td>\n",
       "      <td>195810.04</td>\n",
       "      <td>68134.836667</td>\n",
       "      <td>99563.660038</td>\n",
       "      <td>182396.74</td>\n",
       "      <td>0.000</td>\n",
       "    </tr>\n",
       "    <tr>\n",
       "      <th>2010-01-17</th>\n",
       "      <td>111460.470</td>\n",
       "      <td>1</td>\n",
       "      <td>112318.850</td>\n",
       "      <td>182396.74</td>\n",
       "      <td>44775.540000</td>\n",
       "      <td>59520.244702</td>\n",
       "      <td>112318.85</td>\n",
       "      <td>0.000</td>\n",
       "    </tr>\n",
       "    <tr>\n",
       "      <th>2010-01-24</th>\n",
       "      <td>82065.331</td>\n",
       "      <td>1</td>\n",
       "      <td>111460.470</td>\n",
       "      <td>22007.77</td>\n",
       "      <td>74593.106667</td>\n",
       "      <td>64600.951043</td>\n",
       "      <td>112318.85</td>\n",
       "      <td>0.000</td>\n",
       "    </tr>\n",
       "    <tr>\n",
       "      <th>2010-01-31</th>\n",
       "      <td>110790.591</td>\n",
       "      <td>1</td>\n",
       "      <td>82065.331</td>\n",
       "      <td>0.00</td>\n",
       "      <td>101948.217000</td>\n",
       "      <td>17224.432380</td>\n",
       "      <td>112318.85</td>\n",
       "      <td>82065.331</td>\n",
       "    </tr>\n",
       "    <tr>\n",
       "      <th>2010-02-07</th>\n",
       "      <td>95340.552</td>\n",
       "      <td>2</td>\n",
       "      <td>110790.591</td>\n",
       "      <td>112318.85</td>\n",
       "      <td>101438.797333</td>\n",
       "      <td>16781.256890</td>\n",
       "      <td>111460.47</td>\n",
       "      <td>82065.331</td>\n",
       "    </tr>\n",
       "  </tbody>\n",
       "</table>\n",
       "</div>"
      ],
      "text/plain": [
       "                 sales  month  sales_lag_1  sales_lag_4    mean_window  \\\n",
       "week                                                                     \n",
       "2009-12-06  213000.350     12          NaN          NaN            NaN   \n",
       "2009-12-13  195810.040     12   213000.350          NaN            NaN   \n",
       "2009-12-20  182396.740     12   195810.040          NaN            NaN   \n",
       "2009-12-27   22007.770     12   182396.740          NaN  197069.043333   \n",
       "2010-01-03       0.000      1    22007.770    213000.35  133404.850000   \n",
       "2010-01-10  112318.850      1        0.000    195810.04   68134.836667   \n",
       "2010-01-17  111460.470      1   112318.850    182396.74   44775.540000   \n",
       "2010-01-24   82065.331      1   111460.470     22007.77   74593.106667   \n",
       "2010-01-31  110790.591      1    82065.331         0.00  101948.217000   \n",
       "2010-02-07   95340.552      2   110790.591    112318.85  101438.797333   \n",
       "\n",
       "              std_window  max_window  min_window  \n",
       "week                                              \n",
       "2009-12-06           NaN         NaN         NaN  \n",
       "2009-12-13           NaN         NaN         NaN  \n",
       "2009-12-20           NaN         NaN         NaN  \n",
       "2009-12-27  15340.601465   213000.35  182396.740  \n",
       "2010-01-03  96705.538769   195810.04   22007.770  \n",
       "2010-01-10  99563.660038   182396.74       0.000  \n",
       "2010-01-17  59520.244702   112318.85       0.000  \n",
       "2010-01-24  64600.951043   112318.85       0.000  \n",
       "2010-01-31  17224.432380   112318.85   82065.331  \n",
       "2010-02-07  16781.256890   111460.47   82065.331  "
      ]
     },
     "execution_count": 202,
     "metadata": {},
     "output_type": "execute_result"
    }
   ],
   "source": [
    "# Join the new variables to the original data.\n",
    "print(\"data size before\")\n",
    "print(df.shape)\n",
    "\n",
    "df = df.merge(tmp, left_index=True, right_index=True, how=\"left\")\n",
    "\n",
    "print(\"data size after\")\n",
    "print(df.shape)\n",
    "\n",
    "df.head(10)"
   ]
  },
  {
   "cell_type": "code",
   "execution_count": 203,
   "id": "3d55072c",
   "metadata": {},
   "outputs": [],
   "source": [
    "# Create features that capture the cyclical representation.\n",
    "\n",
    "cyclical = CyclicalFeatures(\n",
    "    variables=[\"month\"],  # The features we want to transform.\n",
    "    drop_original=False,  # Whether to drop the original features.\n",
    ")\n",
    "\n",
    "df = cyclical.fit_transform(df)"
   ]
  },
  {
   "cell_type": "code",
   "execution_count": 204,
   "id": "cee64319",
   "metadata": {},
   "outputs": [
    {
     "data": {
      "text/html": [
       "<div>\n",
       "<style scoped>\n",
       "    .dataframe tbody tr th:only-of-type {\n",
       "        vertical-align: middle;\n",
       "    }\n",
       "\n",
       "    .dataframe tbody tr th {\n",
       "        vertical-align: top;\n",
       "    }\n",
       "\n",
       "    .dataframe thead th {\n",
       "        text-align: right;\n",
       "    }\n",
       "</style>\n",
       "<table border=\"1\" class=\"dataframe\">\n",
       "  <thead>\n",
       "    <tr style=\"text-align: right;\">\n",
       "      <th></th>\n",
       "      <th>sales</th>\n",
       "      <th>month</th>\n",
       "      <th>sales_lag_1</th>\n",
       "      <th>sales_lag_4</th>\n",
       "      <th>mean_window</th>\n",
       "      <th>std_window</th>\n",
       "      <th>max_window</th>\n",
       "      <th>min_window</th>\n",
       "      <th>month_sin</th>\n",
       "      <th>month_cos</th>\n",
       "    </tr>\n",
       "    <tr>\n",
       "      <th>week</th>\n",
       "      <th></th>\n",
       "      <th></th>\n",
       "      <th></th>\n",
       "      <th></th>\n",
       "      <th></th>\n",
       "      <th></th>\n",
       "      <th></th>\n",
       "      <th></th>\n",
       "      <th></th>\n",
       "      <th></th>\n",
       "    </tr>\n",
       "  </thead>\n",
       "  <tbody>\n",
       "    <tr>\n",
       "      <th>2009-12-06</th>\n",
       "      <td>213000.35</td>\n",
       "      <td>12</td>\n",
       "      <td>NaN</td>\n",
       "      <td>NaN</td>\n",
       "      <td>NaN</td>\n",
       "      <td>NaN</td>\n",
       "      <td>NaN</td>\n",
       "      <td>NaN</td>\n",
       "      <td>-2.449294e-16</td>\n",
       "      <td>1.000000</td>\n",
       "    </tr>\n",
       "    <tr>\n",
       "      <th>2009-12-13</th>\n",
       "      <td>195810.04</td>\n",
       "      <td>12</td>\n",
       "      <td>213000.35</td>\n",
       "      <td>NaN</td>\n",
       "      <td>NaN</td>\n",
       "      <td>NaN</td>\n",
       "      <td>NaN</td>\n",
       "      <td>NaN</td>\n",
       "      <td>-2.449294e-16</td>\n",
       "      <td>1.000000</td>\n",
       "    </tr>\n",
       "    <tr>\n",
       "      <th>2009-12-20</th>\n",
       "      <td>182396.74</td>\n",
       "      <td>12</td>\n",
       "      <td>195810.04</td>\n",
       "      <td>NaN</td>\n",
       "      <td>NaN</td>\n",
       "      <td>NaN</td>\n",
       "      <td>NaN</td>\n",
       "      <td>NaN</td>\n",
       "      <td>-2.449294e-16</td>\n",
       "      <td>1.000000</td>\n",
       "    </tr>\n",
       "    <tr>\n",
       "      <th>2009-12-27</th>\n",
       "      <td>22007.77</td>\n",
       "      <td>12</td>\n",
       "      <td>182396.74</td>\n",
       "      <td>NaN</td>\n",
       "      <td>197069.043333</td>\n",
       "      <td>15340.601465</td>\n",
       "      <td>213000.35</td>\n",
       "      <td>182396.74</td>\n",
       "      <td>-2.449294e-16</td>\n",
       "      <td>1.000000</td>\n",
       "    </tr>\n",
       "    <tr>\n",
       "      <th>2010-01-03</th>\n",
       "      <td>0.00</td>\n",
       "      <td>1</td>\n",
       "      <td>22007.77</td>\n",
       "      <td>213000.35</td>\n",
       "      <td>133404.850000</td>\n",
       "      <td>96705.538769</td>\n",
       "      <td>195810.04</td>\n",
       "      <td>22007.77</td>\n",
       "      <td>5.000000e-01</td>\n",
       "      <td>0.866025</td>\n",
       "    </tr>\n",
       "    <tr>\n",
       "      <th>...</th>\n",
       "      <td>...</td>\n",
       "      <td>...</td>\n",
       "      <td>...</td>\n",
       "      <td>...</td>\n",
       "      <td>...</td>\n",
       "      <td>...</td>\n",
       "      <td>...</td>\n",
       "      <td>...</td>\n",
       "      <td>...</td>\n",
       "      <td>...</td>\n",
       "    </tr>\n",
       "    <tr>\n",
       "      <th>2011-11-13</th>\n",
       "      <td>229378.01</td>\n",
       "      <td>11</td>\n",
       "      <td>226770.53</td>\n",
       "      <td>161438.54</td>\n",
       "      <td>198636.933333</td>\n",
       "      <td>24969.590553</td>\n",
       "      <td>226770.53</td>\n",
       "      <td>179106.07</td>\n",
       "      <td>-5.000000e-01</td>\n",
       "      <td>0.866025</td>\n",
       "    </tr>\n",
       "    <tr>\n",
       "      <th>2011-11-20</th>\n",
       "      <td>221870.29</td>\n",
       "      <td>11</td>\n",
       "      <td>229378.01</td>\n",
       "      <td>179106.07</td>\n",
       "      <td>215394.246667</td>\n",
       "      <td>22001.107090</td>\n",
       "      <td>229378.01</td>\n",
       "      <td>190034.20</td>\n",
       "      <td>-5.000000e-01</td>\n",
       "      <td>0.866025</td>\n",
       "    </tr>\n",
       "    <tr>\n",
       "      <th>2011-11-27</th>\n",
       "      <td>210741.76</td>\n",
       "      <td>11</td>\n",
       "      <td>221870.29</td>\n",
       "      <td>190034.20</td>\n",
       "      <td>226006.276667</td>\n",
       "      <td>3811.761701</td>\n",
       "      <td>229378.01</td>\n",
       "      <td>221870.29</td>\n",
       "      <td>-5.000000e-01</td>\n",
       "      <td>0.866025</td>\n",
       "    </tr>\n",
       "    <tr>\n",
       "      <th>2011-12-04</th>\n",
       "      <td>220213.99</td>\n",
       "      <td>12</td>\n",
       "      <td>210741.76</td>\n",
       "      <td>226770.53</td>\n",
       "      <td>220663.353333</td>\n",
       "      <td>9376.565235</td>\n",
       "      <td>229378.01</td>\n",
       "      <td>210741.76</td>\n",
       "      <td>-2.449294e-16</td>\n",
       "      <td>1.000000</td>\n",
       "    </tr>\n",
       "    <tr>\n",
       "      <th>2011-12-11</th>\n",
       "      <td>372946.26</td>\n",
       "      <td>12</td>\n",
       "      <td>220213.99</td>\n",
       "      <td>229378.01</td>\n",
       "      <td>217608.680000</td>\n",
       "      <td>6004.313045</td>\n",
       "      <td>221870.29</td>\n",
       "      <td>210741.76</td>\n",
       "      <td>-2.449294e-16</td>\n",
       "      <td>1.000000</td>\n",
       "    </tr>\n",
       "  </tbody>\n",
       "</table>\n",
       "<p>106 rows × 10 columns</p>\n",
       "</div>"
      ],
      "text/plain": [
       "                sales  month  sales_lag_1  sales_lag_4    mean_window  \\\n",
       "week                                                                    \n",
       "2009-12-06  213000.35     12          NaN          NaN            NaN   \n",
       "2009-12-13  195810.04     12    213000.35          NaN            NaN   \n",
       "2009-12-20  182396.74     12    195810.04          NaN            NaN   \n",
       "2009-12-27   22007.77     12    182396.74          NaN  197069.043333   \n",
       "2010-01-03       0.00      1     22007.77    213000.35  133404.850000   \n",
       "...               ...    ...          ...          ...            ...   \n",
       "2011-11-13  229378.01     11    226770.53    161438.54  198636.933333   \n",
       "2011-11-20  221870.29     11    229378.01    179106.07  215394.246667   \n",
       "2011-11-27  210741.76     11    221870.29    190034.20  226006.276667   \n",
       "2011-12-04  220213.99     12    210741.76    226770.53  220663.353333   \n",
       "2011-12-11  372946.26     12    220213.99    229378.01  217608.680000   \n",
       "\n",
       "              std_window  max_window  min_window     month_sin  month_cos  \n",
       "week                                                                       \n",
       "2009-12-06           NaN         NaN         NaN -2.449294e-16   1.000000  \n",
       "2009-12-13           NaN         NaN         NaN -2.449294e-16   1.000000  \n",
       "2009-12-20           NaN         NaN         NaN -2.449294e-16   1.000000  \n",
       "2009-12-27  15340.601465   213000.35   182396.74 -2.449294e-16   1.000000  \n",
       "2010-01-03  96705.538769   195810.04    22007.77  5.000000e-01   0.866025  \n",
       "...                  ...         ...         ...           ...        ...  \n",
       "2011-11-13  24969.590553   226770.53   179106.07 -5.000000e-01   0.866025  \n",
       "2011-11-20  22001.107090   229378.01   190034.20 -5.000000e-01   0.866025  \n",
       "2011-11-27   3811.761701   229378.01   221870.29 -5.000000e-01   0.866025  \n",
       "2011-12-04   9376.565235   229378.01   210741.76 -2.449294e-16   1.000000  \n",
       "2011-12-11   6004.313045   221870.29   210741.76 -2.449294e-16   1.000000  \n",
       "\n",
       "[106 rows x 10 columns]"
      ]
     },
     "execution_count": 204,
     "metadata": {},
     "output_type": "execute_result"
    }
   ],
   "source": [
    "df"
   ]
  },
  {
   "cell_type": "code",
   "execution_count": 205,
   "id": "9ad471ae",
   "metadata": {},
   "outputs": [
    {
     "data": {
      "text/plain": [
       "sales          0.000000\n",
       "month          0.000000\n",
       "sales_lag_1    0.009434\n",
       "sales_lag_4    0.037736\n",
       "mean_window    0.028302\n",
       "std_window     0.028302\n",
       "max_window     0.028302\n",
       "min_window     0.028302\n",
       "month_sin      0.000000\n",
       "month_cos      0.000000\n",
       "dtype: float64"
      ]
     },
     "execution_count": 205,
     "metadata": {},
     "output_type": "execute_result"
    }
   ],
   "source": [
    "# Determine fraction of missing data.\n",
    "\n",
    "df.isnull().sum() / len(df)"
   ]
  },
  {
   "cell_type": "code",
   "execution_count": 206,
   "id": "138d7bd5",
   "metadata": {},
   "outputs": [
    {
     "name": "stdout",
     "output_type": "stream",
     "text": [
      "data size before\n",
      "(106, 10)\n",
      "data size after\n",
      "(102, 10)\n"
     ]
    }
   ],
   "source": [
    "print(\"data size before\")\n",
    "print(df.shape)\n",
    "\n",
    "df.dropna(inplace=True)\n",
    "\n",
    "print(\"data size after\")\n",
    "print(df.shape)"
   ]
  },
  {
   "cell_type": "code",
   "execution_count": 207,
   "id": "b2966176",
   "metadata": {},
   "outputs": [
    {
     "data": {
      "text/html": [
       "<div>\n",
       "<style scoped>\n",
       "    .dataframe tbody tr th:only-of-type {\n",
       "        vertical-align: middle;\n",
       "    }\n",
       "\n",
       "    .dataframe tbody tr th {\n",
       "        vertical-align: top;\n",
       "    }\n",
       "\n",
       "    .dataframe thead th {\n",
       "        text-align: right;\n",
       "    }\n",
       "</style>\n",
       "<table border=\"1\" class=\"dataframe\">\n",
       "  <thead>\n",
       "    <tr style=\"text-align: right;\">\n",
       "      <th></th>\n",
       "      <th>sales</th>\n",
       "      <th>month</th>\n",
       "      <th>sales_lag_1</th>\n",
       "      <th>sales_lag_4</th>\n",
       "      <th>mean_window</th>\n",
       "      <th>std_window</th>\n",
       "      <th>max_window</th>\n",
       "      <th>min_window</th>\n",
       "      <th>month_sin</th>\n",
       "      <th>month_cos</th>\n",
       "    </tr>\n",
       "    <tr>\n",
       "      <th>week</th>\n",
       "      <th></th>\n",
       "      <th></th>\n",
       "      <th></th>\n",
       "      <th></th>\n",
       "      <th></th>\n",
       "      <th></th>\n",
       "      <th></th>\n",
       "      <th></th>\n",
       "      <th></th>\n",
       "      <th></th>\n",
       "    </tr>\n",
       "  </thead>\n",
       "  <tbody>\n",
       "    <tr>\n",
       "      <th>2010-01-03</th>\n",
       "      <td>0.000</td>\n",
       "      <td>1</td>\n",
       "      <td>22007.770</td>\n",
       "      <td>213000.35</td>\n",
       "      <td>133404.850000</td>\n",
       "      <td>96705.538769</td>\n",
       "      <td>195810.04</td>\n",
       "      <td>22007.770</td>\n",
       "      <td>5.000000e-01</td>\n",
       "      <td>0.866025</td>\n",
       "    </tr>\n",
       "    <tr>\n",
       "      <th>2010-01-10</th>\n",
       "      <td>112318.850</td>\n",
       "      <td>1</td>\n",
       "      <td>0.000</td>\n",
       "      <td>195810.04</td>\n",
       "      <td>68134.836667</td>\n",
       "      <td>99563.660038</td>\n",
       "      <td>182396.74</td>\n",
       "      <td>0.000</td>\n",
       "      <td>5.000000e-01</td>\n",
       "      <td>0.866025</td>\n",
       "    </tr>\n",
       "    <tr>\n",
       "      <th>2010-01-17</th>\n",
       "      <td>111460.470</td>\n",
       "      <td>1</td>\n",
       "      <td>112318.850</td>\n",
       "      <td>182396.74</td>\n",
       "      <td>44775.540000</td>\n",
       "      <td>59520.244702</td>\n",
       "      <td>112318.85</td>\n",
       "      <td>0.000</td>\n",
       "      <td>5.000000e-01</td>\n",
       "      <td>0.866025</td>\n",
       "    </tr>\n",
       "    <tr>\n",
       "      <th>2010-01-24</th>\n",
       "      <td>82065.331</td>\n",
       "      <td>1</td>\n",
       "      <td>111460.470</td>\n",
       "      <td>22007.77</td>\n",
       "      <td>74593.106667</td>\n",
       "      <td>64600.951043</td>\n",
       "      <td>112318.85</td>\n",
       "      <td>0.000</td>\n",
       "      <td>5.000000e-01</td>\n",
       "      <td>0.866025</td>\n",
       "    </tr>\n",
       "    <tr>\n",
       "      <th>2010-01-31</th>\n",
       "      <td>110790.591</td>\n",
       "      <td>1</td>\n",
       "      <td>82065.331</td>\n",
       "      <td>0.00</td>\n",
       "      <td>101948.217000</td>\n",
       "      <td>17224.432380</td>\n",
       "      <td>112318.85</td>\n",
       "      <td>82065.331</td>\n",
       "      <td>5.000000e-01</td>\n",
       "      <td>0.866025</td>\n",
       "    </tr>\n",
       "    <tr>\n",
       "      <th>...</th>\n",
       "      <td>...</td>\n",
       "      <td>...</td>\n",
       "      <td>...</td>\n",
       "      <td>...</td>\n",
       "      <td>...</td>\n",
       "      <td>...</td>\n",
       "      <td>...</td>\n",
       "      <td>...</td>\n",
       "      <td>...</td>\n",
       "      <td>...</td>\n",
       "    </tr>\n",
       "    <tr>\n",
       "      <th>2011-11-13</th>\n",
       "      <td>229378.010</td>\n",
       "      <td>11</td>\n",
       "      <td>226770.530</td>\n",
       "      <td>161438.54</td>\n",
       "      <td>198636.933333</td>\n",
       "      <td>24969.590553</td>\n",
       "      <td>226770.53</td>\n",
       "      <td>179106.070</td>\n",
       "      <td>-5.000000e-01</td>\n",
       "      <td>0.866025</td>\n",
       "    </tr>\n",
       "    <tr>\n",
       "      <th>2011-11-20</th>\n",
       "      <td>221870.290</td>\n",
       "      <td>11</td>\n",
       "      <td>229378.010</td>\n",
       "      <td>179106.07</td>\n",
       "      <td>215394.246667</td>\n",
       "      <td>22001.107090</td>\n",
       "      <td>229378.01</td>\n",
       "      <td>190034.200</td>\n",
       "      <td>-5.000000e-01</td>\n",
       "      <td>0.866025</td>\n",
       "    </tr>\n",
       "    <tr>\n",
       "      <th>2011-11-27</th>\n",
       "      <td>210741.760</td>\n",
       "      <td>11</td>\n",
       "      <td>221870.290</td>\n",
       "      <td>190034.20</td>\n",
       "      <td>226006.276667</td>\n",
       "      <td>3811.761701</td>\n",
       "      <td>229378.01</td>\n",
       "      <td>221870.290</td>\n",
       "      <td>-5.000000e-01</td>\n",
       "      <td>0.866025</td>\n",
       "    </tr>\n",
       "    <tr>\n",
       "      <th>2011-12-04</th>\n",
       "      <td>220213.990</td>\n",
       "      <td>12</td>\n",
       "      <td>210741.760</td>\n",
       "      <td>226770.53</td>\n",
       "      <td>220663.353333</td>\n",
       "      <td>9376.565235</td>\n",
       "      <td>229378.01</td>\n",
       "      <td>210741.760</td>\n",
       "      <td>-2.449294e-16</td>\n",
       "      <td>1.000000</td>\n",
       "    </tr>\n",
       "    <tr>\n",
       "      <th>2011-12-11</th>\n",
       "      <td>372946.260</td>\n",
       "      <td>12</td>\n",
       "      <td>220213.990</td>\n",
       "      <td>229378.01</td>\n",
       "      <td>217608.680000</td>\n",
       "      <td>6004.313045</td>\n",
       "      <td>221870.29</td>\n",
       "      <td>210741.760</td>\n",
       "      <td>-2.449294e-16</td>\n",
       "      <td>1.000000</td>\n",
       "    </tr>\n",
       "  </tbody>\n",
       "</table>\n",
       "<p>102 rows × 10 columns</p>\n",
       "</div>"
      ],
      "text/plain": [
       "                 sales  month  sales_lag_1  sales_lag_4    mean_window  \\\n",
       "week                                                                     \n",
       "2010-01-03       0.000      1    22007.770    213000.35  133404.850000   \n",
       "2010-01-10  112318.850      1        0.000    195810.04   68134.836667   \n",
       "2010-01-17  111460.470      1   112318.850    182396.74   44775.540000   \n",
       "2010-01-24   82065.331      1   111460.470     22007.77   74593.106667   \n",
       "2010-01-31  110790.591      1    82065.331         0.00  101948.217000   \n",
       "...                ...    ...          ...          ...            ...   \n",
       "2011-11-13  229378.010     11   226770.530    161438.54  198636.933333   \n",
       "2011-11-20  221870.290     11   229378.010    179106.07  215394.246667   \n",
       "2011-11-27  210741.760     11   221870.290    190034.20  226006.276667   \n",
       "2011-12-04  220213.990     12   210741.760    226770.53  220663.353333   \n",
       "2011-12-11  372946.260     12   220213.990    229378.01  217608.680000   \n",
       "\n",
       "              std_window  max_window  min_window     month_sin  month_cos  \n",
       "week                                                                       \n",
       "2010-01-03  96705.538769   195810.04   22007.770  5.000000e-01   0.866025  \n",
       "2010-01-10  99563.660038   182396.74       0.000  5.000000e-01   0.866025  \n",
       "2010-01-17  59520.244702   112318.85       0.000  5.000000e-01   0.866025  \n",
       "2010-01-24  64600.951043   112318.85       0.000  5.000000e-01   0.866025  \n",
       "2010-01-31  17224.432380   112318.85   82065.331  5.000000e-01   0.866025  \n",
       "...                  ...         ...         ...           ...        ...  \n",
       "2011-11-13  24969.590553   226770.53  179106.070 -5.000000e-01   0.866025  \n",
       "2011-11-20  22001.107090   229378.01  190034.200 -5.000000e-01   0.866025  \n",
       "2011-11-27   3811.761701   229378.01  221870.290 -5.000000e-01   0.866025  \n",
       "2011-12-04   9376.565235   229378.01  210741.760 -2.449294e-16   1.000000  \n",
       "2011-12-11   6004.313045   221870.29  210741.760 -2.449294e-16   1.000000  \n",
       "\n",
       "[102 rows x 10 columns]"
      ]
     },
     "execution_count": 207,
     "metadata": {},
     "output_type": "execute_result"
    }
   ],
   "source": [
    "df"
   ]
  },
  {
   "cell_type": "markdown",
   "id": "20ae8079",
   "metadata": {},
   "source": [
    "## Split data\n",
    "\n",
    "Separate the data into training and testing sets, leaving the data after the last week of September to evaluate the forecasts, that is, in the testing set."
   ]
  },
  {
   "cell_type": "code",
   "execution_count": 208,
   "id": "5ec0be1b",
   "metadata": {},
   "outputs": [
    {
     "data": {
      "text/html": [
       "<div>\n",
       "<style scoped>\n",
       "    .dataframe tbody tr th:only-of-type {\n",
       "        vertical-align: middle;\n",
       "    }\n",
       "\n",
       "    .dataframe tbody tr th {\n",
       "        vertical-align: top;\n",
       "    }\n",
       "\n",
       "    .dataframe thead th {\n",
       "        text-align: right;\n",
       "    }\n",
       "</style>\n",
       "<table border=\"1\" class=\"dataframe\">\n",
       "  <thead>\n",
       "    <tr style=\"text-align: right;\">\n",
       "      <th></th>\n",
       "      <th>sales</th>\n",
       "      <th>month</th>\n",
       "      <th>sales_lag_1</th>\n",
       "      <th>sales_lag_4</th>\n",
       "      <th>mean_window</th>\n",
       "      <th>std_window</th>\n",
       "      <th>max_window</th>\n",
       "      <th>min_window</th>\n",
       "      <th>month_sin</th>\n",
       "      <th>month_cos</th>\n",
       "    </tr>\n",
       "    <tr>\n",
       "      <th>week</th>\n",
       "      <th></th>\n",
       "      <th></th>\n",
       "      <th></th>\n",
       "      <th></th>\n",
       "      <th></th>\n",
       "      <th></th>\n",
       "      <th></th>\n",
       "      <th></th>\n",
       "      <th></th>\n",
       "      <th></th>\n",
       "    </tr>\n",
       "  </thead>\n",
       "  <tbody>\n",
       "    <tr>\n",
       "      <th>2011-09-04</th>\n",
       "      <td>89577.650</td>\n",
       "      <td>9</td>\n",
       "      <td>121444.74</td>\n",
       "      <td>133155.37</td>\n",
       "      <td>114839.176667</td>\n",
       "      <td>15016.856121</td>\n",
       "      <td>125420.95</td>\n",
       "      <td>97651.84</td>\n",
       "      <td>-1.0</td>\n",
       "      <td>-1.836970e-16</td>\n",
       "    </tr>\n",
       "    <tr>\n",
       "      <th>2011-09-11</th>\n",
       "      <td>131164.240</td>\n",
       "      <td>9</td>\n",
       "      <td>89577.65</td>\n",
       "      <td>97651.84</td>\n",
       "      <td>112147.780000</td>\n",
       "      <td>19647.153424</td>\n",
       "      <td>125420.95</td>\n",
       "      <td>89577.65</td>\n",
       "      <td>-1.0</td>\n",
       "      <td>-1.836970e-16</td>\n",
       "    </tr>\n",
       "    <tr>\n",
       "      <th>2011-09-18</th>\n",
       "      <td>187934.500</td>\n",
       "      <td>9</td>\n",
       "      <td>131164.24</td>\n",
       "      <td>125420.95</td>\n",
       "      <td>114062.210000</td>\n",
       "      <td>21754.020981</td>\n",
       "      <td>131164.24</td>\n",
       "      <td>89577.65</td>\n",
       "      <td>-1.0</td>\n",
       "      <td>-1.836970e-16</td>\n",
       "    </tr>\n",
       "    <tr>\n",
       "      <th>2011-09-25</th>\n",
       "      <td>249563.051</td>\n",
       "      <td>9</td>\n",
       "      <td>187934.50</td>\n",
       "      <td>121444.74</td>\n",
       "      <td>136225.463333</td>\n",
       "      <td>49373.368041</td>\n",
       "      <td>187934.50</td>\n",
       "      <td>89577.65</td>\n",
       "      <td>-1.0</td>\n",
       "      <td>-1.836970e-16</td>\n",
       "    </tr>\n",
       "  </tbody>\n",
       "</table>\n",
       "</div>"
      ],
      "text/plain": [
       "                 sales  month  sales_lag_1  sales_lag_4    mean_window  \\\n",
       "week                                                                     \n",
       "2011-09-04   89577.650      9    121444.74    133155.37  114839.176667   \n",
       "2011-09-11  131164.240      9     89577.65     97651.84  112147.780000   \n",
       "2011-09-18  187934.500      9    131164.24    125420.95  114062.210000   \n",
       "2011-09-25  249563.051      9    187934.50    121444.74  136225.463333   \n",
       "\n",
       "              std_window  max_window  min_window  month_sin     month_cos  \n",
       "week                                                                       \n",
       "2011-09-04  15016.856121   125420.95    97651.84       -1.0 -1.836970e-16  \n",
       "2011-09-11  19647.153424   125420.95    89577.65       -1.0 -1.836970e-16  \n",
       "2011-09-18  21754.020981   131164.24    89577.65       -1.0 -1.836970e-16  \n",
       "2011-09-25  49373.368041   187934.50    89577.65       -1.0 -1.836970e-16  "
      ]
     },
     "execution_count": 208,
     "metadata": {},
     "output_type": "execute_result"
    }
   ],
   "source": [
    "df.loc[\"2011-09-01\": \"2011-09-30\"]"
   ]
  },
  {
   "cell_type": "code",
   "execution_count": 209,
   "id": "0457f19b",
   "metadata": {},
   "outputs": [
    {
     "data": {
      "text/plain": [
       "((91, 10), (11, 10))"
      ]
     },
     "execution_count": 209,
     "metadata": {},
     "output_type": "execute_result"
    }
   ],
   "source": [
    "X_train = df[df.index <= \"2011-09-26\"]\n",
    "X_test = df[df.index > \"2011-09-26\"]\n",
    "\n",
    "X_train.shape, X_test.shape"
   ]
  },
  {
   "cell_type": "markdown",
   "id": "820803d5",
   "metadata": {},
   "source": [
    "## Naive forecast\n",
    "\n",
    "Predict sales in the next week (t) as the value of sales in the previous week (t-1)."
   ]
  },
  {
   "cell_type": "code",
   "execution_count": 210,
   "id": "5e71e4ca",
   "metadata": {},
   "outputs": [],
   "source": [
    "# the target variable\n",
    "y_train = X_train.sales.copy()\n",
    "y_test = X_test.sales.copy()\n",
    "\n",
    "# remove raw time series from predictors set\n",
    "X_train = X_train.drop(\"sales\", axis=1)\n",
    "X_test = X_test.drop(\"sales\", axis=1)"
   ]
  },
  {
   "cell_type": "code",
   "execution_count": 211,
   "id": "de29bca8",
   "metadata": {},
   "outputs": [
    {
     "name": "stdout",
     "output_type": "stream",
     "text": [
      "train rmse:  45844.30745262792\n",
      "test rmse:  65327.34284108387\n"
     ]
    }
   ],
   "source": [
    "# Performance of naive forecast\n",
    "\n",
    "print(\"train rmse: \", mean_squared_error(\n",
    "    y_train, X_train[\"sales_lag_1\"], squared=False,))\n",
    "\n",
    "print(\"test rmse: \",  mean_squared_error(\n",
    "    y_test, X_test[\"sales_lag_1\"], squared=False,))"
   ]
  },
  {
   "cell_type": "markdown",
   "id": "4058260e",
   "metadata": {},
   "source": [
    "## Machine Learning"
   ]
  },
  {
   "cell_type": "code",
   "execution_count": 225,
   "id": "4957673a",
   "metadata": {},
   "outputs": [
    {
     "data": {
      "text/html": [
       "<style>#sk-container-id-5 {color: black;background-color: white;}#sk-container-id-5 pre{padding: 0;}#sk-container-id-5 div.sk-toggleable {background-color: white;}#sk-container-id-5 label.sk-toggleable__label {cursor: pointer;display: block;width: 100%;margin-bottom: 0;padding: 0.3em;box-sizing: border-box;text-align: center;}#sk-container-id-5 label.sk-toggleable__label-arrow:before {content: \"▸\";float: left;margin-right: 0.25em;color: #696969;}#sk-container-id-5 label.sk-toggleable__label-arrow:hover:before {color: black;}#sk-container-id-5 div.sk-estimator:hover label.sk-toggleable__label-arrow:before {color: black;}#sk-container-id-5 div.sk-toggleable__content {max-height: 0;max-width: 0;overflow: hidden;text-align: left;background-color: #f0f8ff;}#sk-container-id-5 div.sk-toggleable__content pre {margin: 0.2em;color: black;border-radius: 0.25em;background-color: #f0f8ff;}#sk-container-id-5 input.sk-toggleable__control:checked~div.sk-toggleable__content {max-height: 200px;max-width: 100%;overflow: auto;}#sk-container-id-5 input.sk-toggleable__control:checked~label.sk-toggleable__label-arrow:before {content: \"▾\";}#sk-container-id-5 div.sk-estimator input.sk-toggleable__control:checked~label.sk-toggleable__label {background-color: #d4ebff;}#sk-container-id-5 div.sk-label input.sk-toggleable__control:checked~label.sk-toggleable__label {background-color: #d4ebff;}#sk-container-id-5 input.sk-hidden--visually {border: 0;clip: rect(1px 1px 1px 1px);clip: rect(1px, 1px, 1px, 1px);height: 1px;margin: -1px;overflow: hidden;padding: 0;position: absolute;width: 1px;}#sk-container-id-5 div.sk-estimator {font-family: monospace;background-color: #f0f8ff;border: 1px dotted black;border-radius: 0.25em;box-sizing: border-box;margin-bottom: 0.5em;}#sk-container-id-5 div.sk-estimator:hover {background-color: #d4ebff;}#sk-container-id-5 div.sk-parallel-item::after {content: \"\";width: 100%;border-bottom: 1px solid gray;flex-grow: 1;}#sk-container-id-5 div.sk-label:hover label.sk-toggleable__label {background-color: #d4ebff;}#sk-container-id-5 div.sk-serial::before {content: \"\";position: absolute;border-left: 1px solid gray;box-sizing: border-box;top: 0;bottom: 0;left: 50%;z-index: 0;}#sk-container-id-5 div.sk-serial {display: flex;flex-direction: column;align-items: center;background-color: white;padding-right: 0.2em;padding-left: 0.2em;position: relative;}#sk-container-id-5 div.sk-item {position: relative;z-index: 1;}#sk-container-id-5 div.sk-parallel {display: flex;align-items: stretch;justify-content: center;background-color: white;position: relative;}#sk-container-id-5 div.sk-item::before, #sk-container-id-5 div.sk-parallel-item::before {content: \"\";position: absolute;border-left: 1px solid gray;box-sizing: border-box;top: 0;bottom: 0;left: 50%;z-index: -1;}#sk-container-id-5 div.sk-parallel-item {display: flex;flex-direction: column;z-index: 1;position: relative;background-color: white;}#sk-container-id-5 div.sk-parallel-item:first-child::after {align-self: flex-end;width: 50%;}#sk-container-id-5 div.sk-parallel-item:last-child::after {align-self: flex-start;width: 50%;}#sk-container-id-5 div.sk-parallel-item:only-child::after {width: 0;}#sk-container-id-5 div.sk-dashed-wrapped {border: 1px dashed gray;margin: 0 0.4em 0.5em 0.4em;box-sizing: border-box;padding-bottom: 0.4em;background-color: white;}#sk-container-id-5 div.sk-label label {font-family: monospace;font-weight: bold;display: inline-block;line-height: 1.2em;}#sk-container-id-5 div.sk-label-container {text-align: center;}#sk-container-id-5 div.sk-container {/* jupyter's `normalize.less` sets `[hidden] { display: none; }` but bootstrap.min.css set `[hidden] { display: none !important; }` so we also need the `!important` here to be able to override the default hidden behavior on the sphinx rendered scikit-learn.org. See: https://github.com/scikit-learn/scikit-learn/issues/21755 */display: inline-block !important;position: relative;}#sk-container-id-5 div.sk-text-repr-fallback {display: none;}</style><div id=\"sk-container-id-5\" class=\"sk-top-container\"><div class=\"sk-text-repr-fallback\"><pre>RandomForestRegressor(max_depth=3, n_estimators=50, random_state=0)</pre><b>In a Jupyter environment, please rerun this cell to show the HTML representation or trust the notebook. <br />On GitHub, the HTML representation is unable to render, please try loading this page with nbviewer.org.</b></div><div class=\"sk-container\" hidden><div class=\"sk-item\"><div class=\"sk-estimator sk-toggleable\"><input class=\"sk-toggleable__control sk-hidden--visually\" id=\"sk-estimator-id-5\" type=\"checkbox\" checked><label for=\"sk-estimator-id-5\" class=\"sk-toggleable__label sk-toggleable__label-arrow\">RandomForestRegressor</label><div class=\"sk-toggleable__content\"><pre>RandomForestRegressor(max_depth=3, n_estimators=50, random_state=0)</pre></div></div></div></div></div>"
      ],
      "text/plain": [
       "RandomForestRegressor(max_depth=3, n_estimators=50, random_state=0)"
      ]
     },
     "execution_count": 225,
     "metadata": {},
     "output_type": "execute_result"
    }
   ],
   "source": [
    "rf_model = RandomForestRegressor(\n",
    "    n_estimators=50,\n",
    "    max_depth=3,\n",
    "    random_state=0,\n",
    ")\n",
    "\n",
    "rf_model.fit(X_train, y_train)"
   ]
  },
  {
   "cell_type": "code",
   "execution_count": 226,
   "id": "b67d0d38",
   "metadata": {},
   "outputs": [
    {
     "name": "stdout",
     "output_type": "stream",
     "text": [
      "train rmse:  27884.012405615013\n",
      "test rmse:  51000.02423834214\n"
     ]
    }
   ],
   "source": [
    "# Performance of random forests\n",
    "\n",
    "print(\"train rmse: \", mean_squared_error(\n",
    "    y_train, rf_model.predict(X_train), squared=False,))\n",
    "\n",
    "print(\"test rmse: \",  mean_squared_error(\n",
    "    y_test, rf_model.predict(X_test), squared=False,))"
   ]
  },
  {
   "cell_type": "code",
   "execution_count": 227,
   "id": "0f570ae4",
   "metadata": {},
   "outputs": [
    {
     "data": {
      "text/plain": [
       "Text(0, 0.5, 'Importance')"
      ]
     },
     "execution_count": 227,
     "metadata": {},
     "output_type": "execute_result"
    },
    {
     "data": {
      "image/png": "[encoded data removed]",
      "text/plain": [
       "<Figure size 1000x500 with 1 Axes>"
      ]
     },
     "metadata": {},
     "output_type": "display_data"
    }
   ],
   "source": [
    "# Let's now plot the feature's importance\n",
    "# according to the random forests.\n",
    "\n",
    "# Create series with feature importance.\n",
    "tmp = pd.Series(rf_model.feature_importances_)\n",
    "\n",
    "# Let's add the variable names.\n",
    "tmp.index = X_train.columns\n",
    "\n",
    "# Let's make a bar plot.\n",
    "tmp.plot.bar(figsize=(10, 5), rot=45)\n",
    "plt.title(\"Feature importance\")\n",
    "plt.ylabel(\"Importance\")"
   ]
  },
  {
   "cell_type": "code",
   "execution_count": 228,
   "id": "d013441f",
   "metadata": {},
   "outputs": [
    {
     "name": "stderr",
     "output_type": "stream",
     "text": [
      "/Users/dmitry/Dev/feature-engineering-for-time-series-forecasting/venv/lib/python3.10/site-packages/sklearn/linear_model/_coordinate_descent.py:631: ConvergenceWarning: Objective did not converge. You might want to increase the number of iterations, check the scale of the features or consider increasing regularisation. Duality gap: 5.037e+10, tolerance: 2.932e+07\n",
      "  model = cd_fast.enet_coordinate_descent(\n"
     ]
    },
    {
     "data": {
      "text/html": [
       "<style>#sk-container-id-6 {color: black;background-color: white;}#sk-container-id-6 pre{padding: 0;}#sk-container-id-6 div.sk-toggleable {background-color: white;}#sk-container-id-6 label.sk-toggleable__label {cursor: pointer;display: block;width: 100%;margin-bottom: 0;padding: 0.3em;box-sizing: border-box;text-align: center;}#sk-container-id-6 label.sk-toggleable__label-arrow:before {content: \"▸\";float: left;margin-right: 0.25em;color: #696969;}#sk-container-id-6 label.sk-toggleable__label-arrow:hover:before {color: black;}#sk-container-id-6 div.sk-estimator:hover label.sk-toggleable__label-arrow:before {color: black;}#sk-container-id-6 div.sk-toggleable__content {max-height: 0;max-width: 0;overflow: hidden;text-align: left;background-color: #f0f8ff;}#sk-container-id-6 div.sk-toggleable__content pre {margin: 0.2em;color: black;border-radius: 0.25em;background-color: #f0f8ff;}#sk-container-id-6 input.sk-toggleable__control:checked~div.sk-toggleable__content {max-height: 200px;max-width: 100%;overflow: auto;}#sk-container-id-6 input.sk-toggleable__control:checked~label.sk-toggleable__label-arrow:before {content: \"▾\";}#sk-container-id-6 div.sk-estimator input.sk-toggleable__control:checked~label.sk-toggleable__label {background-color: #d4ebff;}#sk-container-id-6 div.sk-label input.sk-toggleable__control:checked~label.sk-toggleable__label {background-color: #d4ebff;}#sk-container-id-6 input.sk-hidden--visually {border: 0;clip: rect(1px 1px 1px 1px);clip: rect(1px, 1px, 1px, 1px);height: 1px;margin: -1px;overflow: hidden;padding: 0;position: absolute;width: 1px;}#sk-container-id-6 div.sk-estimator {font-family: monospace;background-color: #f0f8ff;border: 1px dotted black;border-radius: 0.25em;box-sizing: border-box;margin-bottom: 0.5em;}#sk-container-id-6 div.sk-estimator:hover {background-color: #d4ebff;}#sk-container-id-6 div.sk-parallel-item::after {content: \"\";width: 100%;border-bottom: 1px solid gray;flex-grow: 1;}#sk-container-id-6 div.sk-label:hover label.sk-toggleable__label {background-color: #d4ebff;}#sk-container-id-6 div.sk-serial::before {content: \"\";position: absolute;border-left: 1px solid gray;box-sizing: border-box;top: 0;bottom: 0;left: 50%;z-index: 0;}#sk-container-id-6 div.sk-serial {display: flex;flex-direction: column;align-items: center;background-color: white;padding-right: 0.2em;padding-left: 0.2em;position: relative;}#sk-container-id-6 div.sk-item {position: relative;z-index: 1;}#sk-container-id-6 div.sk-parallel {display: flex;align-items: stretch;justify-content: center;background-color: white;position: relative;}#sk-container-id-6 div.sk-item::before, #sk-container-id-6 div.sk-parallel-item::before {content: \"\";position: absolute;border-left: 1px solid gray;box-sizing: border-box;top: 0;bottom: 0;left: 50%;z-index: -1;}#sk-container-id-6 div.sk-parallel-item {display: flex;flex-direction: column;z-index: 1;position: relative;background-color: white;}#sk-container-id-6 div.sk-parallel-item:first-child::after {align-self: flex-end;width: 50%;}#sk-container-id-6 div.sk-parallel-item:last-child::after {align-self: flex-start;width: 50%;}#sk-container-id-6 div.sk-parallel-item:only-child::after {width: 0;}#sk-container-id-6 div.sk-dashed-wrapped {border: 1px dashed gray;margin: 0 0.4em 0.5em 0.4em;box-sizing: border-box;padding-bottom: 0.4em;background-color: white;}#sk-container-id-6 div.sk-label label {font-family: monospace;font-weight: bold;display: inline-block;line-height: 1.2em;}#sk-container-id-6 div.sk-label-container {text-align: center;}#sk-container-id-6 div.sk-container {/* jupyter's `normalize.less` sets `[hidden] { display: none; }` but bootstrap.min.css set `[hidden] { display: none !important; }` so we also need the `!important` here to be able to override the default hidden behavior on the sphinx rendered scikit-learn.org. See: https://github.com/scikit-learn/scikit-learn/issues/21755 */display: inline-block !important;position: relative;}#sk-container-id-6 div.sk-text-repr-fallback {display: none;}</style><div id=\"sk-container-id-6\" class=\"sk-top-container\"><div class=\"sk-text-repr-fallback\"><pre>Lasso(alpha=10, random_state=0)</pre><b>In a Jupyter environment, please rerun this cell to show the HTML representation or trust the notebook. <br />On GitHub, the HTML representation is unable to render, please try loading this page with nbviewer.org.</b></div><div class=\"sk-container\" hidden><div class=\"sk-item\"><div class=\"sk-estimator sk-toggleable\"><input class=\"sk-toggleable__control sk-hidden--visually\" id=\"sk-estimator-id-6\" type=\"checkbox\" checked><label for=\"sk-estimator-id-6\" class=\"sk-toggleable__label sk-toggleable__label-arrow\">Lasso</label><div class=\"sk-toggleable__content\"><pre>Lasso(alpha=10, random_state=0)</pre></div></div></div></div></div>"
      ],
      "text/plain": [
       "Lasso(alpha=10, random_state=0)"
      ]
     },
     "execution_count": 228,
     "metadata": {},
     "output_type": "execute_result"
    }
   ],
   "source": [
    "linear_model = Lasso(alpha=10, random_state=0)\n",
    "\n",
    "linear_model.fit(X_train, y_train)"
   ]
  },
  {
   "cell_type": "code",
   "execution_count": 229,
   "id": "8124e4d8",
   "metadata": {},
   "outputs": [
    {
     "name": "stdout",
     "output_type": "stream",
     "text": [
      "train rmse:  33247.87079447196\n",
      "test rmse:  47939.074261881\n"
     ]
    }
   ],
   "source": [
    "# Performance of linear model\n",
    "\n",
    "print(\"train rmse: \", mean_squared_error(\n",
    "    y_train, linear_model.predict(X_train), squared=False,))\n",
    "\n",
    "print(\"test rmse: \",  mean_squared_error(\n",
    "    y_test, linear_model.predict(X_test), squared=False,))"
   ]
  },
  {
   "cell_type": "code",
   "execution_count": 230,
   "id": "aee76688",
   "metadata": {},
   "outputs": [
    {
     "data": {
      "image/png": "[encoded data removed]",
      "text/plain": [
       "<Figure size 1500x600 with 1 Axes>"
      ]
     },
     "metadata": {},
     "output_type": "display_data"
    }
   ],
   "source": [
    "# Let's now plot the feature's importance\n",
    "# according to the linear model.\n",
    "\n",
    "# Create series with feature importance.\n",
    "tmp = pd.Series(np.abs(linear_model.coef_))\n",
    "\n",
    "# Let's add the variable names.\n",
    "tmp.index = X_train.columns\n",
    "\n",
    "# Let's make a bar plot.\n",
    "tmp.plot.bar(figsize=(15, 6))\n",
    "plt.title(\"Feature importance\")\n",
    "plt.ylabel(\"Importance\");"
   ]
  },
  {
   "cell_type": "code",
   "execution_count": null,
   "id": "5d2e6077",
   "metadata": {},
   "outputs": [],
   "source": []
  }
 ],
 "metadata": {
  "kernelspec": {
   "display_name": "venv",
   "language": "python",
   "name": "python3"
  },
  "language_info": {
   "codemirror_mode": {
    "name": "ipython",
    "version": 3
   },
   "file_extension": ".py",
   "mimetype": "text/x-python",
   "name": "python",
   "nbconvert_exporter": "python",
   "pygments_lexer": "ipython3",
   "version": "3.10.6"
  },
  "toc": {
   "base_numbering": 1,
   "nav_menu": {},
   "number_sections": true,
   "sideBar": true,
   "skip_h1_title": false,
   "title_cell": "Table of Contents",
   "title_sidebar": "Contents",
   "toc_cell": false,
   "toc_position": {},
   "toc_section_display": true,
   "toc_window_display": true
  },
  "vscode": {
   "interpreter": {
    "hash": "350436ad5f17c04a97bfce5983772560d0d8bd2b28691d00b5f4639a4a7b4c12"
   }
  }
 },
 "nbformat": 4,
 "nbformat_minor": 5
}
